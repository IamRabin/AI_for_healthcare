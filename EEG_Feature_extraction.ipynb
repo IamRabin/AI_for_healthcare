{
  "nbformat": 4,
  "nbformat_minor": 0,
  "metadata": {
    "colab": {
      "name": "EEG_Feature_extraction.ipynb",
      "provenance": [],
      "authorship_tag": "ABX9TyOCk/8HNlxLf/1DbttDERRw",
      "include_colab_link": true
    },
    "kernelspec": {
      "display_name": "Python 3",
      "name": "python3"
    },
    "language_info": {
      "name": "python"
    },
    "accelerator": "GPU"
  },
  "cells": [
    {
      "cell_type": "markdown",
      "metadata": {
        "id": "view-in-github",
        "colab_type": "text"
      },
      "source": [
        "<a href=\"https://colab.research.google.com/github/IamRabin/AI_for_healthcare/blob/master/EEG_Feature_extraction.ipynb\" target=\"_parent\"><img src=\"https://colab.research.google.com/assets/colab-badge.svg\" alt=\"Open In Colab\"/></a>"
      ]
    },
    {
      "cell_type": "code",
      "metadata": {
        "colab": {
          "base_uri": "https://localhost:8080/"
        },
        "id": "Sa36s1N_u8if",
        "outputId": "68aee4b3-e060-45ff-bba6-57515be60cde"
      },
      "source": [
        "!git clone \"https://github.com/pbashivan/EEGLearn.git\""
      ],
      "execution_count": null,
      "outputs": [
        {
          "output_type": "stream",
          "text": [
            "fatal: destination path 'EEGLearn' already exists and is not an empty directory.\n"
          ],
          "name": "stdout"
        }
      ]
    },
    {
      "cell_type": "code",
      "metadata": {
        "id": "2UitLOSBvVOu"
      },
      "source": [
        "!pip install -r \"/content/EEGLearn/requirements.txt\""
      ],
      "execution_count": null,
      "outputs": []
    },
    {
      "cell_type": "code",
      "metadata": {
        "colab": {
          "base_uri": "https://localhost:8080/"
        },
        "id": "PGhBuZPj3ixJ",
        "outputId": "0fce92bf-034c-4d9a-a593-7ba71f62e8c4"
      },
      "source": [
        "!git clone https://github.com/VDelv/EEGLearn-Pytorch.git"
      ],
      "execution_count": 1,
      "outputs": [
        {
          "output_type": "stream",
          "text": [
            "Cloning into 'EEGLearn-Pytorch'...\n",
            "remote: Enumerating objects: 150, done.\u001b[K\n",
            "remote: Counting objects: 100% (59/59), done.\u001b[K\n",
            "remote: Compressing objects: 100% (51/51), done.\u001b[K\n",
            "remote: Total 150 (delta 25), reused 25 (delta 7), pack-reused 91\u001b[K\n",
            "Receiving objects: 100% (150/150), 69.91 MiB | 42.61 MiB/s, done.\n",
            "Resolving deltas: 100% (26/26), done.\n"
          ],
          "name": "stdout"
        }
      ]
    },
    {
      "cell_type": "markdown",
      "metadata": {
        "id": "7li6RyOv2FoM"
      },
      "source": [
        "# Libraries Import"
      ]
    },
    {
      "cell_type": "code",
      "metadata": {
        "id": "hXgzdxLE2ADC"
      },
      "source": [
        "\n",
        "import numpy as np \n",
        "import scipy.io as sio\n",
        "import torch\n",
        "import os \n",
        "import matplotlib.pyplot as plt\n",
        "\n",
        "\n",
        "import torch.optim as optim\n",
        "import torch.nn.functional as F\n",
        "\n",
        "from torch.autograd import Variable\n",
        "from torch.utils.data.dataset import Dataset\n",
        "from torch.utils.data import DataLoader,random_split\n",
        "\n",
        "from EEGLearnPytorch.Models import *\n",
        "from EEGLearnPytorch.Utils import *\n",
        "\n",
        "\n",
        "torch.manual_seed(1234)\n",
        "np.random.seed(1234)\n",
        "\n",
        "import warnings\n",
        "warnings.simplefilter(\"ignore\")"
      ],
      "execution_count": 2,
      "outputs": []
    },
    {
      "cell_type": "markdown",
      "metadata": {
        "id": "yibdsH4XRlU0"
      },
      "source": [
        "#Load original Images"
      ]
    },
    {
      "cell_type": "code",
      "metadata": {
        "id": "yRPVlbL9aAb5"
      },
      "source": [
        "def create_img():\n",
        "    feats = sio.loadmat(\"/content/EEGLearnPytorch/Sample Data/FeatureMat_timeWin.mat\")['features']\n",
        "    locs = sio.loadmat(\"/content/EEGLearnPytorch/Sample Data/Neuroscan_locs_orig.mat\")\n",
        "    locs_3d = locs['A']\n",
        "    locs_2d = []\n",
        "    # Convert to 2D\n",
        "    for e in locs_3d:\n",
        "        locs_2d.append(azim_proj(e))\n",
        "\n",
        "    images_timewin = np.array([gen_images(np.array(locs_2d),\n",
        "                                          feats[:, i * 192:(i + 1) * 192], 32, normalize=True) for i in\n",
        "                               range(int(feats.shape[1] / 192))\n",
        "                               ])\n",
        "\n",
        "    sio.savemat(\"/content/EEGLearnPytorch/Sample Data/images_time.mat\",{\"img\":images_timewin})\n",
        "    print(\"Images Created and Save in EEGLearnPytorch/Sample Dat/images_time\")"
      ],
      "execution_count": 3,
      "outputs": []
    },
    {
      "cell_type": "code",
      "metadata": {
        "colab": {
          "base_uri": "https://localhost:8080/"
        },
        "id": "GL0mWJfkqXbo",
        "outputId": "20c5637c-5534-490d-859b-f77591ec38e9"
      },
      "source": [
        "create_img()"
      ],
      "execution_count": 4,
      "outputs": [
        {
          "output_type": "stream",
          "text": [
            "Images Created and Save in EEGLearnPytorch/Sample Dat/images_time\n"
          ],
          "name": "stdout"
        }
      ]
    },
    {
      "cell_type": "code",
      "metadata": {
        "colab": {
          "base_uri": "https://localhost:8080/"
        },
        "id": "iYYPKc3o6FF-",
        "outputId": "3daecbcb-074b-4752-ee8a-72854534f7cd"
      },
      "source": [
        "Mean_Images = sio.loadmat(\"./EEGLearnPytorch/Sample Data/images.mat\")[\"img\"] #corresponding to the images mean for all the seven windows\n",
        "print(np.shape(Mean_Images)) \n",
        "Images = sio.loadmat(\"./EEGLearnPytorch/Sample Data/images_time.mat\")[\"img\"] #corresponding to the images mean for all the seven windows\n",
        "print(np.shape(Images)) \n",
        "Label = (sio.loadmat(\"./EEGLearnPytorch/Sample Data/FeatureMat_timeWin\")[\"features\"][:,-1]-1).astype(int) #corresponding to the signal label (i.e. load levels).\n",
        "print(np.shape(Label)) \n",
        "Patient_id = sio.loadmat(\"./EEGLearnPytorch/Sample Data/trials_subNums.mat\")['subjectNum'][0] #corresponding to the patient id\n",
        "print(np.shape(Patient_id))"
      ],
      "execution_count": null,
      "outputs": [
        {
          "output_type": "stream",
          "text": [
            "(2670, 3, 32, 32)\n",
            "(7, 2670, 3, 32, 32)\n",
            "(2670,)\n",
            "(2670,)\n"
          ],
          "name": "stdout"
        }
      ]
    },
    {
      "cell_type": "code",
      "metadata": {
        "id": "NY2JdqS1Dp_0"
      },
      "source": [
        "Images=np.transpose(Images, (1,0,2,3,4))"
      ],
      "execution_count": null,
      "outputs": []
    },
    {
      "cell_type": "code",
      "metadata": {
        "colab": {
          "base_uri": "https://localhost:8080/",
          "height": 578
        },
        "id": "3qH4LoVLEyV8",
        "outputId": "77c40cab-f62f-473b-c7bd-86b3dd693b8e"
      },
      "source": [
        "plt.figure(figsize=(10,10))\n",
        "for i in range(4):\n",
        "    plt.subplot(2,2,i+1)\n",
        "    plt.xticks([])\n",
        "    plt.yticks([])\n",
        "    plt.grid(False)\n",
        "    plt.imshow(Images[i,0,0,:,:])\n",
        "    \n",
        "plt.show()"
      ],
      "execution_count": null,
      "outputs": [
        {
          "output_type": "display_data",
          "data": {
            "image/png": "[encoded data removed]",
            "text/plain": [
              "<Figure size 720x720 with 4 Axes>"
            ]
          },
          "metadata": {
            "tags": []
          }
        }
      ]
    },
    {
      "cell_type": "code",
      "metadata": {
        "colab": {
          "base_uri": "https://localhost:8080/"
        },
        "id": "sHIxd1mLVbNp",
        "outputId": "87a652fe-8e87-43db-84d9-648da65fab50"
      },
      "source": [
        "print(\"Choose among the patient : \"+str(np.unique(Patient_id)))\n"
      ],
      "execution_count": null,
      "outputs": [
        {
          "output_type": "stream",
          "text": [
            "Choose among the patient : [ 1  2  3  4  6  7  8  9 10 11 12 14 15]\n"
          ],
          "name": "stdout"
        }
      ]
    },
    {
      "cell_type": "code",
      "metadata": {
        "id": "jcLELmI-Vetc"
      },
      "source": [
        "choosen_patient = 9\n"
      ],
      "execution_count": null,
      "outputs": []
    },
    {
      "cell_type": "code",
      "metadata": {
        "id": "pdtUaVezWQnB"
      },
      "source": [
        "train_part = 0.8\n",
        "test_part = 0.2\n",
        "\n",
        "batch_size = 32"
      ],
      "execution_count": null,
      "outputs": []
    },
    {
      "cell_type": "code",
      "metadata": {
        "id": "pLcnoUPHWUN5"
      },
      "source": [
        "\n",
        "EEG = EEGImagesDataset(label=Label[Patient_id==choosen_patient], image=Mean_Images[Patient_id==choosen_patient])\n",
        "\n",
        "lengths = [int(len(EEG)*train_part+1), int(len(EEG)*test_part)]\n",
        "Train, Test = random_split(EEG, lengths)\n",
        "\n",
        "Trainloader = DataLoader(Train,batch_size=batch_size)\n",
        "Testloader = DataLoader(Test, batch_size=batch_size)"
      ],
      "execution_count": null,
      "outputs": []
    },
    {
      "cell_type": "code",
      "metadata": {
        "colab": {
          "base_uri": "https://localhost:8080/"
        },
        "id": "cXthahwtA5Av",
        "outputId": "ef429d3a-f5ce-4d64-dc5b-d9c512cfed5d"
      },
      "source": [
        "a=next(iter(Trainloader))\n",
        "a[0].shape"
      ],
      "execution_count": null,
      "outputs": [
        {
          "output_type": "execute_result",
          "data": {
            "text/plain": [
              "torch.Size([32, 3, 32, 32])"
            ]
          },
          "metadata": {
            "tags": []
          },
          "execution_count": 50
        }
      ]
    },
    {
      "cell_type": "code",
      "metadata": {
        "id": "5K_ij8eaWqmd"
      },
      "source": [
        "res = TrainTest_Model(BasicCNN, Trainloader, Testloader, n_epoch=50, learning_rate=0.001, print_epoch=-1, opti='Adam')"
      ],
      "execution_count": null,
      "outputs": []
    },
    {
      "cell_type": "code",
      "metadata": {
        "id": "4nNi8SHaXOxo"
      },
      "source": [
        "train_part = 0.8\n",
        "test_part = 0.2\n",
        "\n",
        "batch_size = 32"
      ],
      "execution_count": null,
      "outputs": []
    },
    {
      "cell_type": "code",
      "metadata": {
        "colab": {
          "base_uri": "https://localhost:8080/",
          "height": 299
        },
        "id": "ym7c9xGPZZt_",
        "outputId": "d94858c3-b573-4802-dd42-f9211c8c5148"
      },
      "source": [
        "\n",
        "EEG = EEGImagesDataset(label=Label[Patient_id==choosen_patient], image=Images[Patient_id==choosen_patient])\n",
        "\n",
        "lengths = [int(len(EEG)*train_part+1), int(len(EEG)*test_part)]\n",
        "Train, Test = random_split(EEG, lengths)\n",
        "\n",
        "Trainloader = DataLoader(Train,batch_size=batch_size)\n",
        "Testloader = DataLoader(Test, batch_size=batch_size)"
      ],
      "execution_count": null,
      "outputs": [
        {
          "output_type": "error",
          "ename": "IndexError",
          "evalue": "ignored",
          "traceback": [
            "\u001b[0;31m---------------------------------------------------------------------------\u001b[0m",
            "\u001b[0;31mIndexError\u001b[0m                                Traceback (most recent call last)",
            "\u001b[0;32m<ipython-input-18-75f1591333e6>\u001b[0m in \u001b[0;36m<module>\u001b[0;34m()\u001b[0m\n\u001b[1;32m      1\u001b[0m \u001b[0;34m\u001b[0m\u001b[0m\n\u001b[0;32m----> 2\u001b[0;31m \u001b[0mEEG\u001b[0m \u001b[0;34m=\u001b[0m \u001b[0mEEGImagesDataset\u001b[0m\u001b[0;34m(\u001b[0m\u001b[0mlabel\u001b[0m\u001b[0;34m=\u001b[0m\u001b[0mLabel\u001b[0m\u001b[0;34m[\u001b[0m\u001b[0mPatient_id\u001b[0m\u001b[0;34m==\u001b[0m\u001b[0mchoosen_patient\u001b[0m\u001b[0;34m]\u001b[0m\u001b[0;34m,\u001b[0m \u001b[0mimage\u001b[0m\u001b[0;34m=\u001b[0m\u001b[0mImages\u001b[0m\u001b[0;34m[\u001b[0m\u001b[0mPatient_id\u001b[0m\u001b[0;34m==\u001b[0m\u001b[0mchoosen_patient\u001b[0m\u001b[0;34m]\u001b[0m\u001b[0;34m)\u001b[0m\u001b[0;34m\u001b[0m\u001b[0;34m\u001b[0m\u001b[0m\n\u001b[0m\u001b[1;32m      3\u001b[0m \u001b[0;34m\u001b[0m\u001b[0m\n\u001b[1;32m      4\u001b[0m \u001b[0mlengths\u001b[0m \u001b[0;34m=\u001b[0m \u001b[0;34m[\u001b[0m\u001b[0mint\u001b[0m\u001b[0;34m(\u001b[0m\u001b[0mlen\u001b[0m\u001b[0;34m(\u001b[0m\u001b[0mEEG\u001b[0m\u001b[0;34m)\u001b[0m\u001b[0;34m*\u001b[0m\u001b[0mtrain_part\u001b[0m\u001b[0;34m+\u001b[0m\u001b[0;36m1\u001b[0m\u001b[0;34m)\u001b[0m\u001b[0;34m,\u001b[0m \u001b[0mint\u001b[0m\u001b[0;34m(\u001b[0m\u001b[0mlen\u001b[0m\u001b[0;34m(\u001b[0m\u001b[0mEEG\u001b[0m\u001b[0;34m)\u001b[0m\u001b[0;34m*\u001b[0m\u001b[0mtest_part\u001b[0m\u001b[0;34m)\u001b[0m\u001b[0;34m]\u001b[0m\u001b[0;34m\u001b[0m\u001b[0;34m\u001b[0m\u001b[0m\n\u001b[1;32m      5\u001b[0m \u001b[0mTrain\u001b[0m\u001b[0;34m,\u001b[0m \u001b[0mTest\u001b[0m \u001b[0;34m=\u001b[0m \u001b[0mrandom_split\u001b[0m\u001b[0;34m(\u001b[0m\u001b[0mEEG\u001b[0m\u001b[0;34m,\u001b[0m \u001b[0mlengths\u001b[0m\u001b[0;34m)\u001b[0m\u001b[0;34m\u001b[0m\u001b[0;34m\u001b[0m\u001b[0m\n",
            "\u001b[0;31mIndexError\u001b[0m: boolean index did not match indexed array along dimension 0; dimension is 7 but corresponding boolean dimension is 2670"
          ]
        }
      ]
    },
    {
      "cell_type": "code",
      "metadata": {
        "colab": {
          "base_uri": "https://localhost:8080/"
        },
        "id": "LXGORu3aE2d7",
        "outputId": "85853c7c-8b86-48bf-907d-f752d7bcdeaa"
      },
      "source": [
        "print('Begin Training for Patient '+str(choosen_patient))\n",
        "res = TrainTest_Model(MaxCNN, Trainloader, Testloader, n_epoch=45, learning_rate=0.001, print_epoch=5, opti='Adam')"
      ],
      "execution_count": null,
      "outputs": [
        {
          "output_type": "stream",
          "text": [
            "Begin Training for Patient 9\n",
            "[5,  45]\tloss: 0.841\tAccuracy : 0.574\t\tval-loss: 1.036\tval-Accuracy : 0.675\n",
            "[10,  45]\tloss: 0.217\tAccuracy : 0.889\t\tval-loss: 0.978\tval-Accuracy : 0.725\n",
            "[15,  45]\tloss: 0.200\tAccuracy : 0.963\t\tval-loss: 0.629\tval-Accuracy : 0.775\n",
            "[20,  45]\tloss: 0.093\tAccuracy : 0.969\t\tval-loss: 0.686\tval-Accuracy : 0.850\n",
            "[25,  45]\tloss: 0.025\tAccuracy : 0.994\t\tval-loss: 0.876\tval-Accuracy : 0.850\n",
            "[30,  45]\tloss: 0.016\tAccuracy : 0.994\t\tval-loss: 1.035\tval-Accuracy : 0.825\n",
            "[35,  45]\tloss: 0.009\tAccuracy : 0.994\t\tval-loss: 1.175\tval-Accuracy : 0.850\n",
            "[40,  45]\tloss: 0.000\tAccuracy : 1.000\t\tval-loss: 1.619\tval-Accuracy : 0.850\n",
            "[45,  45]\tloss: 0.000\tAccuracy : 1.000\t\tval-loss: 1.743\tval-Accuracy : 0.875\n"
          ],
          "name": "stdout"
        }
      ]
    },
    {
      "cell_type": "code",
      "metadata": {
        "colab": {
          "base_uri": "https://localhost:8080/"
        },
        "id": "K5-07yhSFAqs",
        "outputId": "ea5f902a-35fd-443b-8868-58785d618af2"
      },
      "source": [
        "\n",
        "print('Begin Training for Patient '+str(choosen_patient))\n",
        "res = TrainTest_Model(TempCNN, Trainloader, Testloader, n_epoch=45, learning_rate=0.001, print_epoch=5, opti='Adam')"
      ],
      "execution_count": null,
      "outputs": [
        {
          "output_type": "stream",
          "text": [
            "Begin Training for Patient 9\n",
            "[5,  45]\tloss: 0.295\tAccuracy : 0.901\t\tval-loss: 0.472\tval-Accuracy : 0.800\n",
            "[10,  45]\tloss: 0.109\tAccuracy : 0.963\t\tval-loss: 0.283\tval-Accuracy : 0.925\n",
            "[15,  45]\tloss: 0.004\tAccuracy : 1.000\t\tval-loss: 0.789\tval-Accuracy : 0.900\n",
            "[20,  45]\tloss: 0.000\tAccuracy : 1.000\t\tval-loss: 0.767\tval-Accuracy : 0.950\n",
            "[25,  45]\tloss: 0.000\tAccuracy : 1.000\t\tval-loss: 0.871\tval-Accuracy : 0.950\n",
            "[30,  45]\tloss: 0.000\tAccuracy : 1.000\t\tval-loss: 1.015\tval-Accuracy : 0.925\n",
            "[35,  45]\tloss: 0.000\tAccuracy : 1.000\t\tval-loss: 1.054\tval-Accuracy : 0.925\n",
            "[40,  45]\tloss: 0.000\tAccuracy : 1.000\t\tval-loss: 1.104\tval-Accuracy : 0.925\n",
            "[45,  45]\tloss: 0.000\tAccuracy : 1.000\t\tval-loss: 1.131\tval-Accuracy : 0.925\n"
          ],
          "name": "stdout"
        }
      ]
    },
    {
      "cell_type": "markdown",
      "metadata": {
        "id": "j8J0u5FwG4zi"
      },
      "source": [
        "Temp CNN"
      ]
    },
    {
      "cell_type": "code",
      "metadata": {
        "colab": {
          "base_uri": "https://localhost:8080/"
        },
        "id": "BaQ2RfKuGwJG",
        "outputId": "30873983-99cb-480b-a668-7d832d0114cc"
      },
      "source": [
        "print('Begin Training for Patient '+str(choosen_patient))\n",
        "res = TrainTest_Model(TempCNN, Trainloader, Testloader, n_epoch=45, learning_rate=0.001, print_epoch=5, opti='Adam')"
      ],
      "execution_count": null,
      "outputs": [
        {
          "output_type": "stream",
          "text": [
            "Begin Training for Patient 9\n",
            "[5,  45]\tloss: 0.606\tAccuracy : 0.809\t\tval-loss: 0.443\tval-Accuracy : 0.800\n",
            "[10,  45]\tloss: 0.027\tAccuracy : 0.994\t\tval-loss: 0.142\tval-Accuracy : 0.875\n",
            "[15,  45]\tloss: 0.000\tAccuracy : 1.000\t\tval-loss: 0.142\tval-Accuracy : 0.950\n",
            "[20,  45]\tloss: 0.000\tAccuracy : 1.000\t\tval-loss: 0.205\tval-Accuracy : 0.950\n",
            "[25,  45]\tloss: 0.000\tAccuracy : 1.000\t\tval-loss: 0.236\tval-Accuracy : 0.950\n",
            "[30,  45]\tloss: 0.000\tAccuracy : 1.000\t\tval-loss: 0.267\tval-Accuracy : 0.950\n",
            "[35,  45]\tloss: 0.000\tAccuracy : 1.000\t\tval-loss: 0.286\tval-Accuracy : 0.950\n",
            "[40,  45]\tloss: 0.000\tAccuracy : 1.000\t\tval-loss: 0.304\tval-Accuracy : 0.950\n",
            "[45,  45]\tloss: 0.000\tAccuracy : 1.000\t\tval-loss: 0.316\tval-Accuracy : 0.950\n"
          ],
          "name": "stdout"
        }
      ]
    },
    {
      "cell_type": "markdown",
      "metadata": {
        "id": "dEH-QJEBHJJo"
      },
      "source": [
        "# Mix CNN"
      ]
    },
    {
      "cell_type": "code",
      "metadata": {
        "id": "0iKGB8W9HIA-"
      },
      "source": [
        "EEG = EEGImagesDataset(label=Label[Patient_id==choosen_patient], image=Images[Patient_id==choosen_patient])\n",
        "\n",
        "lengths = [int(len(EEG)*train_part+1), int(len(EEG)*test_part)]\n",
        "Train, Test = random_split(EEG, lengths)\n",
        "\n",
        "Trainloader = DataLoader(Train,batch_size=batch_size)\n",
        "Testloader = DataLoader(Test, batch_size=batch_size)\n"
      ],
      "execution_count": null,
      "outputs": []
    },
    {
      "cell_type": "code",
      "metadata": {
        "colab": {
          "base_uri": "https://localhost:8080/"
        },
        "id": "M9-zJ7Z0HOkr",
        "outputId": "350c0687-7fc4-4e25-d923-4739f087b508"
      },
      "source": [
        "print('Begin Training for Patient '+str(choosen_patient))\n",
        "res = TrainTest_Model(Mix, Trainloader, Testloader, n_epoch=60, learning_rate=0.00001, print_epoch=5, opti='Adam')"
      ],
      "execution_count": null,
      "outputs": [
        {
          "output_type": "stream",
          "text": [
            "Begin Training for Patient 9\n",
            "[5,  60]\tloss: 1.358\tAccuracy : 0.296\t\tval-loss: 1.387\tval-Accuracy : 0.250\n",
            "[10,  60]\tloss: 1.339\tAccuracy : 0.296\t\tval-loss: 1.390\tval-Accuracy : 0.250\n",
            "[15,  60]\tloss: 1.325\tAccuracy : 0.296\t\tval-loss: 1.393\tval-Accuracy : 0.250\n",
            "[20,  60]\tloss: 1.300\tAccuracy : 0.333\t\tval-loss: 1.378\tval-Accuracy : 0.300\n",
            "[25,  60]\tloss: 1.218\tAccuracy : 0.568\t\tval-loss: 1.288\tval-Accuracy : 0.475\n",
            "[30,  60]\tloss: 1.054\tAccuracy : 0.568\t\tval-loss: 1.100\tval-Accuracy : 0.475\n",
            "[35,  60]\tloss: 0.912\tAccuracy : 0.580\t\tval-loss: 0.971\tval-Accuracy : 0.475\n",
            "[40,  60]\tloss: 0.797\tAccuracy : 0.605\t\tval-loss: 0.876\tval-Accuracy : 0.500\n",
            "[45,  60]\tloss: 0.693\tAccuracy : 0.667\t\tval-loss: 0.797\tval-Accuracy : 0.600\n",
            "[50,  60]\tloss: 0.593\tAccuracy : 0.772\t\tval-loss: 0.718\tval-Accuracy : 0.750\n",
            "[55,  60]\tloss: 0.486\tAccuracy : 0.809\t\tval-loss: 0.633\tval-Accuracy : 0.750\n",
            "[60,  60]\tloss: 0.378\tAccuracy : 0.870\t\tval-loss: 0.549\tval-Accuracy : 0.775\n"
          ],
          "name": "stdout"
        }
      ]
    },
    {
      "cell_type": "markdown",
      "metadata": {
        "id": "IaP82cmPNXn7"
      },
      "source": [
        "#Captum\n"
      ]
    },
    {
      "cell_type": "code",
      "metadata": {
        "colab": {
          "base_uri": "https://localhost:8080/"
        },
        "id": "9eHHHfC4NcK_",
        "outputId": "e8b12d6a-0ed3-498e-f8c1-364d69bc146f"
      },
      "source": [
        "!pip install captum"
      ],
      "execution_count": null,
      "outputs": [
        {
          "output_type": "stream",
          "text": [
            "Collecting captum\n",
            "\u001b[?25l  Downloading https://files.pythonhosted.org/packages/13/b0/8fa3ab89e2e37c960cdd09595fa911fbb8d6da216c8bc98e18c858a0128d/captum-0.3.1-py3-none-any.whl (4.4MB)\n",
            "\u001b[K     |████████████████████████████████| 4.4MB 28.0MB/s \n",
            "\u001b[?25hRequirement already satisfied: matplotlib in /usr/local/lib/python3.7/dist-packages (from captum) (3.2.2)\n",
            "Requirement already satisfied: numpy in /usr/local/lib/python3.7/dist-packages (from captum) (1.19.5)\n",
            "Requirement already satisfied: torch>=1.2 in /usr/local/lib/python3.7/dist-packages (from captum) (1.8.1+cu101)\n",
            "Requirement already satisfied: pyparsing!=2.0.4,!=2.1.2,!=2.1.6,>=2.0.1 in /usr/local/lib/python3.7/dist-packages (from matplotlib->captum) (2.4.7)\n",
            "Requirement already satisfied: cycler>=0.10 in /usr/local/lib/python3.7/dist-packages (from matplotlib->captum) (0.10.0)\n",
            "Requirement already satisfied: kiwisolver>=1.0.1 in /usr/local/lib/python3.7/dist-packages (from matplotlib->captum) (1.3.1)\n",
            "Requirement already satisfied: python-dateutil>=2.1 in /usr/local/lib/python3.7/dist-packages (from matplotlib->captum) (2.8.1)\n",
            "Requirement already satisfied: typing-extensions in /usr/local/lib/python3.7/dist-packages (from torch>=1.2->captum) (3.7.4.3)\n",
            "Requirement already satisfied: six in /usr/local/lib/python3.7/dist-packages (from cycler>=0.10->matplotlib->captum) (1.15.0)\n",
            "Installing collected packages: captum\n",
            "Successfully installed captum-0.3.1\n"
          ],
          "name": "stdout"
        }
      ]
    },
    {
      "cell_type": "code",
      "metadata": {
        "id": "MELyFO2VNZHh"
      },
      "source": [
        "from captum.attr import visualization as viz\n",
        "from captum.attr import FeatureAblation\n",
        "\n",
        "from PIL import Image\n",
        "import matplotlib.pyplot as plt"
      ],
      "execution_count": null,
      "outputs": []
    },
    {
      "cell_type": "code",
      "metadata": {
        "id": "4TdpSg3WNhww"
      },
      "source": [
        ""
      ],
      "execution_count": null,
      "outputs": []
    }
  ]
}